{
 "cells": [
  {
   "cell_type": "markdown",
   "metadata": {},
   "source": [
    "**`Nombre completo:`** Paula Daniela Cárdenas Gallardo <br>\n",
    "**`Fecha de nacimiento:`** 1 de mayo de 2001 <br>\n",
    "**`Edad:`** 21 años <br>\n",
    "**`Lugar de nacimiento:`** Guadalajara, Jalisco, México <br>"
   ]
  },
  {
   "cell_type": "markdown",
   "metadata": {},
   "source": [
    "___\n",
    "## <font color = 'maroon'> Actividad `Git Pull` y `Git Merge` </font>\n",
    "**`Git Pull:`**\n",
    "+ Se encarga de actualizar la *head branch* actual con los últimos cambios del repositorio remoto\n",
    "+ Al estar posicionado en una rama y se genera un *pull*, la(s) otra(s) rama(s) no será afectadas ni cambiadas\n",
    "\n",
    "**`Git Merge:`**\n",
    "+ Se encarga de incorporar cambios hacia la rama actual"
   ]
  },
  {
   "cell_type": "code",
   "execution_count": null,
   "metadata": {},
   "outputs": [],
   "source": []
  }
 ],
 "metadata": {
  "kernelspec": {
   "display_name": "Python 3",
   "language": "python",
   "name": "python3"
  },
  "language_info": {
   "codemirror_mode": {
    "name": "ipython",
    "version": 3
   },
   "file_extension": ".py",
   "mimetype": "text/x-python",
   "name": "python",
   "nbconvert_exporter": "python",
   "pygments_lexer": "ipython3",
   "version": "3.8.5"
  }
 },
 "nbformat": 4,
 "nbformat_minor": 4
}
