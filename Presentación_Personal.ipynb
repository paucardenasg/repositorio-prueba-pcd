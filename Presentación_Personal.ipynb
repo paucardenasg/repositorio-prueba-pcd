{
 "cells": [
  {
   "cell_type": "markdown",
   "metadata": {},
   "source": [
    "**`Nombre completo:`** Paula Daniela Cárdenas Gallardo <br>\n",
    "**`Fecha de nacimiento:`** 1 de mayo de 2001 <br>\n",
    "**`Edad:`** 21 años <br>\n",
    "**`Lugar de nacimiento:`** Guadalajara, Jalisco, México <br>"
   ]
  },
  {
   "cell_type": "markdown",
   "metadata": {},
   "source": [
    "___\n",
    "## <font color = 'maroon'> Actividad `Git Pull` y `Git Merge` </font>\n",
    "**`Git Pull:`**\n",
    "+ Se encarga de actualizar la *head branch* actual con los últimos cambios del repositorio remoto\n",
    "+ Al estar posicionado en una rama y se genera un *pull*, la(s) otra(s) rama(s) no será afectadas ni cambiadas\n",
    "\n",
    "**`Git Merge:`**\n",
    "+ Se encarga de incorporar cambios hacia la rama actual\n",
    "___"
   ]
  },
  {
   "cell_type": "code",
   "execution_count": 1,
   "metadata": {},
   "outputs": [],
   "source": [
    "def add_names(first_name, last_name):\n",
    "    return f'Mi nombre completo es {first_name + \" \" + last_name}.'"
   ]
  },
  {
   "cell_type": "code",
   "execution_count": 2,
   "metadata": {},
   "outputs": [
    {
     "name": "stdout",
     "output_type": "stream",
     "text": [
      "Mi nombre completo es Paula Cárdenas.\n"
     ]
    }
   ],
   "source": [
    "first_name = 'Paula'\n",
    "last_name = 'Cárdenas'\n",
    "print(add_names(first_name, last_name))"
   ]
  },
  {
   "cell_type": "code",
   "execution_count": null,
   "metadata": {},
   "outputs": [],
   "source": []
  }
 ],
 "metadata": {
  "kernelspec": {
   "display_name": "Python 3",
   "language": "python",
   "name": "python3"
  },
  "language_info": {
   "codemirror_mode": {
    "name": "ipython",
    "version": 3
   },
   "file_extension": ".py",
   "mimetype": "text/x-python",
   "name": "python",
   "nbconvert_exporter": "python",
   "pygments_lexer": "ipython3",
   "version": "3.8.5"
  }
 },
 "nbformat": 4,
 "nbformat_minor": 4
}
