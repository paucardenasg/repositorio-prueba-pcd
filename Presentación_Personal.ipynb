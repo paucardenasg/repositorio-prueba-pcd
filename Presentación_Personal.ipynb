{
 "cells": [
  {
   "cell_type": "markdown",
   "metadata": {},
   "source": [
    "**`Nombre completo`**: Paula Daniela Cárdenas Gallardo <br>\n",
    "**`Fecha de nacimiento`**: 1 de mayo de 2001 <br>\n",
    "**`Edad`**: 21 años <br>\n",
    "**`Lugar de nacimiento`**: Guadalajara, Jalisco, México <br>"
   ]
  },
  {
   "cell_type": "code",
   "execution_count": null,
   "metadata": {},
   "outputs": [],
   "source": []
  }
 ],
 "metadata": {
  "kernelspec": {
   "display_name": "Python 3",
   "language": "python",
   "name": "python3"
  },
  "language_info": {
   "codemirror_mode": {
    "name": "ipython",
    "version": 3
   },
   "file_extension": ".py",
   "mimetype": "text/x-python",
   "name": "python",
   "nbconvert_exporter": "python",
   "pygments_lexer": "ipython3",
   "version": "3.8.5"
  }
 },
 "nbformat": 4,
 "nbformat_minor": 4
}
